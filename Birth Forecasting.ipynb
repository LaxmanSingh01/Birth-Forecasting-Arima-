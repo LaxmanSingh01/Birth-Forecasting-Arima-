{
 "cells": [
  {
   "cell_type": "code",
   "execution_count": 1,
   "id": "f4217a97",
   "metadata": {},
   "outputs": [],
   "source": [
    "import pandas as pd\n",
    "import warnings\n",
    "warnings.filterwarnings('ignore')\n",
    "import matplotlib.pyplot as plt"
   ]
  },
  {
   "cell_type": "code",
   "execution_count": 2,
   "id": "0389431f",
   "metadata": {},
   "outputs": [],
   "source": [
    "data=pd.read_csv('Births2015.csv',usecols=['date','births'],index_col=[0])"
   ]
  },
  {
   "cell_type": "code",
   "execution_count": 3,
   "id": "833a9a07",
   "metadata": {},
   "outputs": [
    {
     "data": {
      "text/html": [
       "<div>\n",
       "<style scoped>\n",
       "    .dataframe tbody tr th:only-of-type {\n",
       "        vertical-align: middle;\n",
       "    }\n",
       "\n",
       "    .dataframe tbody tr th {\n",
       "        vertical-align: top;\n",
       "    }\n",
       "\n",
       "    .dataframe thead th {\n",
       "        text-align: right;\n",
       "    }\n",
       "</style>\n",
       "<table border=\"1\" class=\"dataframe\">\n",
       "  <thead>\n",
       "    <tr style=\"text-align: right;\">\n",
       "      <th></th>\n",
       "      <th>births</th>\n",
       "    </tr>\n",
       "    <tr>\n",
       "      <th>date</th>\n",
       "      <th></th>\n",
       "    </tr>\n",
       "  </thead>\n",
       "  <tbody>\n",
       "    <tr>\n",
       "      <th>2015-01-01</th>\n",
       "      <td>8068</td>\n",
       "    </tr>\n",
       "    <tr>\n",
       "      <th>2015-01-02</th>\n",
       "      <td>10850</td>\n",
       "    </tr>\n",
       "    <tr>\n",
       "      <th>2015-01-03</th>\n",
       "      <td>8328</td>\n",
       "    </tr>\n",
       "    <tr>\n",
       "      <th>2015-01-04</th>\n",
       "      <td>7065</td>\n",
       "    </tr>\n",
       "    <tr>\n",
       "      <th>2015-01-05</th>\n",
       "      <td>11892</td>\n",
       "    </tr>\n",
       "  </tbody>\n",
       "</table>\n",
       "</div>"
      ],
      "text/plain": [
       "            births\n",
       "date              \n",
       "2015-01-01    8068\n",
       "2015-01-02   10850\n",
       "2015-01-03    8328\n",
       "2015-01-04    7065\n",
       "2015-01-05   11892"
      ]
     },
     "execution_count": 3,
     "metadata": {},
     "output_type": "execute_result"
    }
   ],
   "source": [
    "data.head()"
   ]
  },
  {
   "cell_type": "code",
   "execution_count": 4,
   "id": "c1065aab",
   "metadata": {},
   "outputs": [
    {
     "data": {
      "text/plain": [
       "births    0\n",
       "dtype: int64"
      ]
     },
     "execution_count": 4,
     "metadata": {},
     "output_type": "execute_result"
    }
   ],
   "source": [
    "data.isnull().sum()"
   ]
  },
  {
   "cell_type": "code",
   "execution_count": 5,
   "id": "00112f28",
   "metadata": {},
   "outputs": [
    {
     "data": {
      "text/html": [
       "<div>\n",
       "<style scoped>\n",
       "    .dataframe tbody tr th:only-of-type {\n",
       "        vertical-align: middle;\n",
       "    }\n",
       "\n",
       "    .dataframe tbody tr th {\n",
       "        vertical-align: top;\n",
       "    }\n",
       "\n",
       "    .dataframe thead th {\n",
       "        text-align: right;\n",
       "    }\n",
       "</style>\n",
       "<table border=\"1\" class=\"dataframe\">\n",
       "  <thead>\n",
       "    <tr style=\"text-align: right;\">\n",
       "      <th></th>\n",
       "      <th>births</th>\n",
       "    </tr>\n",
       "  </thead>\n",
       "  <tbody>\n",
       "    <tr>\n",
       "      <th>count</th>\n",
       "      <td>365.000000</td>\n",
       "    </tr>\n",
       "    <tr>\n",
       "      <th>mean</th>\n",
       "      <td>10899.991781</td>\n",
       "    </tr>\n",
       "    <tr>\n",
       "      <th>std</th>\n",
       "      <td>2076.683881</td>\n",
       "    </tr>\n",
       "    <tr>\n",
       "      <th>min</th>\n",
       "      <td>6515.000000</td>\n",
       "    </tr>\n",
       "    <tr>\n",
       "      <th>25%</th>\n",
       "      <td>8431.000000</td>\n",
       "    </tr>\n",
       "    <tr>\n",
       "      <th>50%</th>\n",
       "      <td>11883.000000</td>\n",
       "    </tr>\n",
       "    <tr>\n",
       "      <th>75%</th>\n",
       "      <td>12339.000000</td>\n",
       "    </tr>\n",
       "    <tr>\n",
       "      <th>max</th>\n",
       "      <td>13949.000000</td>\n",
       "    </tr>\n",
       "  </tbody>\n",
       "</table>\n",
       "</div>"
      ],
      "text/plain": [
       "             births\n",
       "count    365.000000\n",
       "mean   10899.991781\n",
       "std     2076.683881\n",
       "min     6515.000000\n",
       "25%     8431.000000\n",
       "50%    11883.000000\n",
       "75%    12339.000000\n",
       "max    13949.000000"
      ]
     },
     "execution_count": 5,
     "metadata": {},
     "output_type": "execute_result"
    }
   ],
   "source": [
    "data.describe()"
   ]
  },
  {
   "cell_type": "code",
   "execution_count": 6,
   "id": "cc85f903",
   "metadata": {},
   "outputs": [
    {
     "data": {
      "text/plain": [
       "(365, 1)"
      ]
     },
     "execution_count": 6,
     "metadata": {},
     "output_type": "execute_result"
    }
   ],
   "source": [
    "data.shape"
   ]
  },
  {
   "cell_type": "markdown",
   "id": "30d8f809",
   "metadata": {},
   "source": [
    "## Lets plot the distribution"
   ]
  },
  {
   "cell_type": "code",
   "execution_count": 7,
   "id": "5aee813a",
   "metadata": {},
   "outputs": [
    {
     "data": {
      "text/plain": [
       "<AxesSubplot:xlabel='date'>"
      ]
     },
     "execution_count": 7,
     "metadata": {},
     "output_type": "execute_result"
    },
    {
     "data": {
      "image/png": "[encoded data removed]",
      "text/plain": [
       "<Figure size 432x288 with 1 Axes>"
      ]
     },
     "metadata": {
      "needs_background": "light"
     },
     "output_type": "display_data"
    }
   ],
   "source": [
    "data.plot()"
   ]
  },
  {
   "cell_type": "markdown",
   "id": "8eb522c0",
   "metadata": {},
   "source": [
    "## Lets Check the noise of the data"
   ]
  },
  {
   "cell_type": "code",
   "execution_count": 8,
   "id": "226bacbb",
   "metadata": {},
   "outputs": [],
   "source": [
    "## Lets find the moving average\n",
    "data_mean=data.rolling(window=10).mean()"
   ]
  },
  {
   "cell_type": "code",
   "execution_count": 9,
   "id": "f3a2523c",
   "metadata": {},
   "outputs": [
    {
     "data": {
      "text/plain": [
       "<AxesSubplot:xlabel='date'>"
      ]
     },
     "execution_count": 9,
     "metadata": {},
     "output_type": "execute_result"
    },
    {
     "data": {
      "image/png": "[encoded data removed]",
      "text/plain": [
       "<Figure size 432x288 with 1 Axes>"
      ]
     },
     "metadata": {
      "needs_background": "light"
     },
     "output_type": "display_data"
    }
   ],
   "source": [
    "data_mean.plot()"
   ]
  },
  {
   "cell_type": "markdown",
   "id": "20c43eef",
   "metadata": {},
   "source": [
    "we can see the there is peak in data"
   ]
  },
  {
   "cell_type": "markdown",
   "id": "d9edc6d9",
   "metadata": {},
   "source": [
    "## Lets apply Arima for forecast the birth"
   ]
  },
  {
   "cell_type": "code",
   "execution_count": 10,
   "id": "f1466faa",
   "metadata": {},
   "outputs": [
    {
     "name": "stdout",
     "output_type": "stream",
     "text": [
      "Requirement already satisfied: statsmodels in c:\\users\\laxman singh\\desktop\\extra material\\new folder\\lib\\site-packages (0.13.1)\n",
      "Requirement already satisfied: pandas>=0.25 in c:\\users\\laxman singh\\desktop\\extra material\\new folder\\lib\\site-packages (from statsmodels) (1.2.5)\n",
      "Requirement already satisfied: scipy>=1.3 in c:\\users\\laxman singh\\desktop\\extra material\\new folder\\lib\\site-packages (from statsmodels) (1.7.0)\n",
      "Requirement already satisfied: numpy>=1.17 in c:\\users\\laxman singh\\desktop\\extra material\\new folder\\lib\\site-packages (from statsmodels) (1.19.5)\n",
      "Requirement already satisfied: patsy>=0.5.2 in c:\\users\\laxman singh\\desktop\\extra material\\new folder\\lib\\site-packages (from statsmodels) (0.5.2)\n",
      "Requirement already satisfied: pytz>=2017.3 in c:\\users\\laxman singh\\desktop\\extra material\\new folder\\lib\\site-packages (from pandas>=0.25->statsmodels) (2021.1)\n",
      "Requirement already satisfied: python-dateutil>=2.7.3 in c:\\users\\laxman singh\\desktop\\extra material\\new folder\\lib\\site-packages (from pandas>=0.25->statsmodels) (2.8.1)\n",
      "Requirement already satisfied: six in c:\\users\\laxman singh\\desktop\\extra material\\new folder\\lib\\site-packages (from patsy>=0.5.2->statsmodels) (1.15.0)\n"
     ]
    }
   ],
   "source": [
    "!pip install statsmodels"
   ]
  },
  {
   "cell_type": "code",
   "execution_count": 11,
   "id": "a047894a",
   "metadata": {},
   "outputs": [],
   "source": [
    "## Importing the required libraries\n",
    "from statsmodels.graphics.tsaplots import plot_acf,plot_pacf"
   ]
  },
  {
   "cell_type": "code",
   "execution_count": 12,
   "id": "d3736f8b",
   "metadata": {},
   "outputs": [
    {
     "data": {
      "image/png": "[encoded data removed]",
      "text/plain": [
       "<Figure size 432x288 with 1 Axes>"
      ]
     },
     "execution_count": 12,
     "metadata": {},
     "output_type": "execute_result"
    },
    {
     "data": {
      "image/png": "[encoded data removed]",
      "text/plain": [
       "<Figure size 432x288 with 1 Axes>"
      ]
     },
     "metadata": {
      "needs_background": "light"
     },
     "output_type": "display_data"
    }
   ],
   "source": [
    "## Plotting acf and pacf for parameters of Arima\n",
    "plot_acf(data)"
   ]
  },
  {
   "cell_type": "code",
   "execution_count": 13,
   "id": "3f42c6f3",
   "metadata": {},
   "outputs": [
    {
     "data": {
      "image/png": "[encoded data removed]",
      "text/plain": [
       "<Figure size 432x288 with 1 Axes>"
      ]
     },
     "execution_count": 13,
     "metadata": {},
     "output_type": "execute_result"
    },
    {
     "data": {
      "image/png": "[encoded data removed]",
      "text/plain": [
       "<Figure size 432x288 with 1 Axes>"
      ]
     },
     "metadata": {
      "needs_background": "light"
     },
     "output_type": "display_data"
    }
   ],
   "source": [
    "plot_pacf(data)"
   ]
  },
  {
   "cell_type": "code",
   "execution_count": 14,
   "id": "fdb7a982",
   "metadata": {},
   "outputs": [
    {
     "data": {
      "text/plain": [
       "365"
      ]
     },
     "execution_count": 14,
     "metadata": {},
     "output_type": "execute_result"
    }
   ],
   "source": [
    "data.size"
   ]
  },
  {
   "cell_type": "code",
   "execution_count": 15,
   "id": "b097f0fa",
   "metadata": {},
   "outputs": [],
   "source": [
    "train_data=data[0:300]\n",
    "test_data=data[300:]"
   ]
  },
  {
   "cell_type": "code",
   "execution_count": 16,
   "id": "1eeb43c1",
   "metadata": {},
   "outputs": [
    {
     "data": {
      "text/plain": [
       "300"
      ]
     },
     "execution_count": 16,
     "metadata": {},
     "output_type": "execute_result"
    }
   ],
   "source": [
    "train_data.size"
   ]
  },
  {
   "cell_type": "code",
   "execution_count": 17,
   "id": "ee5de0e2",
   "metadata": {},
   "outputs": [
    {
     "data": {
      "text/plain": [
       "65"
      ]
     },
     "execution_count": 17,
     "metadata": {},
     "output_type": "execute_result"
    }
   ],
   "source": [
    "test_data.size"
   ]
  },
  {
   "cell_type": "code",
   "execution_count": 18,
   "id": "87433db8",
   "metadata": {},
   "outputs": [],
   "source": [
    "from statsmodels.tsa.statespace.sarimax import SARIMAX"
   ]
  },
  {
   "cell_type": "code",
   "execution_count": 19,
   "id": "5a1b3689",
   "metadata": {},
   "outputs": [
    {
     "name": "stderr",
     "output_type": "stream",
     "text": [
      "c:\\users\\laxman singh\\desktop\\extra material\\new folder\\lib\\site-packages\\statsmodels\\tsa\\base\\tsa_model.py:536: ValueWarning: No frequency information was provided, so inferred frequency D will be used.\n",
      "  warnings.warn('No frequency information was'\n",
      "c:\\users\\laxman singh\\desktop\\extra material\\new folder\\lib\\site-packages\\statsmodels\\tsa\\base\\tsa_model.py:536: ValueWarning: No frequency information was provided, so inferred frequency D will be used.\n",
      "  warnings.warn('No frequency information was'\n"
     ]
    }
   ],
   "source": [
    "birth_model=SARIMAX(train_data,order=(7,1,7),seasonal_order=(0, 0, 0, 0))"
   ]
  },
  {
   "cell_type": "code",
   "execution_count": 20,
   "id": "e7e8d7e7",
   "metadata": {},
   "outputs": [
    {
     "name": "stderr",
     "output_type": "stream",
     "text": [
      "c:\\users\\laxman singh\\desktop\\extra material\\new folder\\lib\\site-packages\\statsmodels\\base\\model.py:604: ConvergenceWarning: Maximum Likelihood optimization failed to converge. Check mle_retvals\n",
      "  warnings.warn(\"Maximum Likelihood optimization failed to \"\n"
     ]
    }
   ],
   "source": [
    "result=birth_model.fit()"
   ]
  },
  {
   "cell_type": "code",
   "execution_count": 21,
   "id": "f9009633",
   "metadata": {},
   "outputs": [
    {
     "data": {
      "text/plain": [
       "4769.922546931457"
      ]
     },
     "execution_count": 21,
     "metadata": {},
     "output_type": "execute_result"
    }
   ],
   "source": [
    "result.aic"
   ]
  },
  {
   "cell_type": "code",
   "execution_count": 22,
   "id": "39a74c79",
   "metadata": {},
   "outputs": [],
   "source": [
    "result_forecast=result.forecast(steps = 65)"
   ]
  },
  {
   "cell_type": "code",
   "execution_count": 23,
   "id": "7507aa51",
   "metadata": {},
   "outputs": [
    {
     "data": {
      "text/plain": [
       "date\n",
       "2015-10-28    12266\n",
       "2015-10-29    11950\n",
       "2015-10-30    11529\n",
       "2015-10-31     8049\n",
       "2015-11-01     7731\n",
       "              ...  \n",
       "2015-12-27     7518\n",
       "2015-12-28    13100\n",
       "2015-12-29    13458\n",
       "2015-12-30    13100\n",
       "2015-12-31    11608\n",
       "Name: births, Length: 65, dtype: int64"
      ]
     },
     "execution_count": 23,
     "metadata": {},
     "output_type": "execute_result"
    }
   ],
   "source": [
    "test_data['births']"
   ]
  },
  {
   "cell_type": "code",
   "execution_count": 24,
   "id": "a3598253",
   "metadata": {},
   "outputs": [
    {
     "data": {
      "text/plain": [
       "2015-10-28    12122.980920\n",
       "2015-10-29    12355.924939\n",
       "2015-10-30    12237.611262\n",
       "2015-10-31     8578.778963\n",
       "2015-11-01     7696.314838\n",
       "                  ...     \n",
       "2015-12-27     7988.744315\n",
       "2015-12-28    11303.485486\n",
       "2015-12-29    12227.986405\n",
       "2015-12-30    11612.016785\n",
       "2015-12-31    12343.622635\n",
       "Freq: D, Name: predicted_mean, Length: 65, dtype: float64"
      ]
     },
     "execution_count": 24,
     "metadata": {},
     "output_type": "execute_result"
    }
   ],
   "source": [
    "result_forecast"
   ]
  },
  {
   "cell_type": "code",
   "execution_count": 25,
   "id": "50e6c315",
   "metadata": {},
   "outputs": [
    {
     "data": {
      "text/html": [
       "<div>\n",
       "<style scoped>\n",
       "    .dataframe tbody tr th:only-of-type {\n",
       "        vertical-align: middle;\n",
       "    }\n",
       "\n",
       "    .dataframe tbody tr th {\n",
       "        vertical-align: top;\n",
       "    }\n",
       "\n",
       "    .dataframe thead th {\n",
       "        text-align: right;\n",
       "    }\n",
       "</style>\n",
       "<table border=\"1\" class=\"dataframe\">\n",
       "  <thead>\n",
       "    <tr style=\"text-align: right;\">\n",
       "      <th></th>\n",
       "      <th>Original</th>\n",
       "    </tr>\n",
       "    <tr>\n",
       "      <th>predicted_mean</th>\n",
       "      <th></th>\n",
       "    </tr>\n",
       "  </thead>\n",
       "  <tbody>\n",
       "    <tr>\n",
       "      <th>12122.980920</th>\n",
       "      <td>12266</td>\n",
       "    </tr>\n",
       "    <tr>\n",
       "      <th>12355.924939</th>\n",
       "      <td>11950</td>\n",
       "    </tr>\n",
       "    <tr>\n",
       "      <th>12237.611262</th>\n",
       "      <td>11529</td>\n",
       "    </tr>\n",
       "    <tr>\n",
       "      <th>8578.778963</th>\n",
       "      <td>8049</td>\n",
       "    </tr>\n",
       "    <tr>\n",
       "      <th>7696.314838</th>\n",
       "      <td>7731</td>\n",
       "    </tr>\n",
       "    <tr>\n",
       "      <th>...</th>\n",
       "      <td>...</td>\n",
       "    </tr>\n",
       "    <tr>\n",
       "      <th>7988.744315</th>\n",
       "      <td>7518</td>\n",
       "    </tr>\n",
       "    <tr>\n",
       "      <th>11303.485486</th>\n",
       "      <td>13100</td>\n",
       "    </tr>\n",
       "    <tr>\n",
       "      <th>12227.986405</th>\n",
       "      <td>13458</td>\n",
       "    </tr>\n",
       "    <tr>\n",
       "      <th>11612.016785</th>\n",
       "      <td>13100</td>\n",
       "    </tr>\n",
       "    <tr>\n",
       "      <th>12343.622635</th>\n",
       "      <td>11608</td>\n",
       "    </tr>\n",
       "  </tbody>\n",
       "</table>\n",
       "<p>65 rows × 1 columns</p>\n",
       "</div>"
      ],
      "text/plain": [
       "                Original\n",
       "predicted_mean          \n",
       "12122.980920       12266\n",
       "12355.924939       11950\n",
       "12237.611262       11529\n",
       "8578.778963         8049\n",
       "7696.314838         7731\n",
       "...                  ...\n",
       "7988.744315         7518\n",
       "11303.485486       13100\n",
       "12227.986405       13458\n",
       "11612.016785       13100\n",
       "12343.622635       11608\n",
       "\n",
       "[65 rows x 1 columns]"
      ]
     },
     "execution_count": 25,
     "metadata": {},
     "output_type": "execute_result"
    }
   ],
   "source": [
    "df=pd.DataFrame(test_data['births'].values,result_forecast)\n",
    "df.columns=['Original']\n",
    "df"
   ]
  },
  {
   "cell_type": "code",
   "execution_count": null,
   "id": "20ef2d49",
   "metadata": {},
   "outputs": [],
   "source": []
  }
 ],
 "metadata": {
  "kernelspec": {
   "display_name": "Python 3",
   "language": "python",
   "name": "python3"
  },
  "language_info": {
   "codemirror_mode": {
    "name": "ipython",
    "version": 3
   },
   "file_extension": ".py",
   "mimetype": "text/x-python",
   "name": "python",
   "nbconvert_exporter": "python",
   "pygments_lexer": "ipython3",
   "version": "3.9.7"
  }
 },
 "nbformat": 4,
 "nbformat_minor": 5
}
